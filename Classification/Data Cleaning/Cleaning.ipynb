{
 "cells": [
  {
   "cell_type": "markdown",
   "metadata": {
    "id": "_mbt0kOvBsbO"
   },
   "source": [
    "# Import data and libraries ----------------------"
   ]
  },
  {
   "cell_type": "code",
   "execution_count": 1,
   "metadata": {},
   "outputs": [],
   "source": [
    "import os\n",
    "import pandas as pd\n",
    "import numpy as np"
   ]
  },
  {
   "cell_type": "code",
   "execution_count": 3,
   "metadata": {
    "colab": {
     "base_uri": "https://localhost:8080/",
     "height": 381
    },
    "id": "xRhy-sYcCmQ8",
    "outputId": "f4cefc2c-8fb3-43b5-d527-7247af0469fc"
   },
   "outputs": [
    {
     "data": {
      "text/html": [
       "<div>\n",
       "<style scoped>\n",
       "    .dataframe tbody tr th:only-of-type {\n",
       "        vertical-align: middle;\n",
       "    }\n",
       "\n",
       "    .dataframe tbody tr th {\n",
       "        vertical-align: top;\n",
       "    }\n",
       "\n",
       "    .dataframe thead th {\n",
       "        text-align: right;\n",
       "    }\n",
       "</style>\n",
       "<table border=\"1\" class=\"dataframe\">\n",
       "  <thead>\n",
       "    <tr style=\"text-align: right;\">\n",
       "      <th></th>\n",
       "      <th>a_docId</th>\n",
       "      <th>a_comment_date</th>\n",
       "      <th>a_content_comment</th>\n",
       "      <th>a_rating</th>\n",
       "    </tr>\n",
       "  </thead>\n",
       "  <tbody>\n",
       "    <tr>\n",
       "      <th>0</th>\n",
       "      <td>1</td>\n",
       "      <td>Mar-22</td>\n",
       "      <td>Terrible !!!...open at 12 noon, close at 7pm. ...</td>\n",
       "      <td>1</td>\n",
       "    </tr>\n",
       "    <tr>\n",
       "      <th>1</th>\n",
       "      <td>2</td>\n",
       "      <td>Feb-22</td>\n",
       "      <td>I see other people's reviews about a lot of it...</td>\n",
       "      <td>4</td>\n",
       "    </tr>\n",
       "    <tr>\n",
       "      <th>2</th>\n",
       "      <td>3</td>\n",
       "      <td>Feb-22</td>\n",
       "      <td>As several previous reviewers have noted, the ...</td>\n",
       "      <td>2</td>\n",
       "    </tr>\n",
       "    <tr>\n",
       "      <th>3</th>\n",
       "      <td>8</td>\n",
       "      <td>Feb-22</td>\n",
       "      <td>We paid FULL price for the tickets, only to fi...</td>\n",
       "      <td>1</td>\n",
       "    </tr>\n",
       "    <tr>\n",
       "      <th>4</th>\n",
       "      <td>9</td>\n",
       "      <td>Feb-22</td>\n",
       "      <td>Multiple rides, shows (100% of the shows were ...</td>\n",
       "      <td>1</td>\n",
       "    </tr>\n",
       "    <tr>\n",
       "      <th>...</th>\n",
       "      <td>...</td>\n",
       "      <td>...</td>\n",
       "      <td>...</td>\n",
       "      <td>...</td>\n",
       "    </tr>\n",
       "    <tr>\n",
       "      <th>10103</th>\n",
       "      <td>15773</td>\n",
       "      <td>Failed</td>\n",
       "      <td>Ticket to enter the park costs SGD66.00 which ...</td>\n",
       "      <td>3</td>\n",
       "    </tr>\n",
       "    <tr>\n",
       "      <th>10104</th>\n",
       "      <td>15774</td>\n",
       "      <td>Failed</td>\n",
       "      <td>Upon our entry, we decided to head around the ...</td>\n",
       "      <td>2</td>\n",
       "    </tr>\n",
       "    <tr>\n",
       "      <th>10105</th>\n",
       "      <td>15775</td>\n",
       "      <td>Failed</td>\n",
       "      <td>While what they have got so far looks like it ...</td>\n",
       "      <td>2</td>\n",
       "    </tr>\n",
       "    <tr>\n",
       "      <th>10106</th>\n",
       "      <td>15776</td>\n",
       "      <td>Failed</td>\n",
       "      <td>I expected Universal Studios Singapore to be i...</td>\n",
       "      <td>3</td>\n",
       "    </tr>\n",
       "    <tr>\n",
       "      <th>10107</th>\n",
       "      <td>15777</td>\n",
       "      <td>Failed</td>\n",
       "      <td>most of the rides are functional except for th...</td>\n",
       "      <td>3</td>\n",
       "    </tr>\n",
       "  </tbody>\n",
       "</table>\n",
       "<p>10108 rows × 4 columns</p>\n",
       "</div>"
      ],
      "text/plain": [
       "       a_docId a_comment_date  \\\n",
       "0            1         Mar-22   \n",
       "1            2         Feb-22   \n",
       "2            3         Feb-22   \n",
       "3            8         Feb-22   \n",
       "4            9         Feb-22   \n",
       "...        ...            ...   \n",
       "10103    15773         Failed   \n",
       "10104    15774         Failed   \n",
       "10105    15775         Failed   \n",
       "10106    15776         Failed   \n",
       "10107    15777         Failed   \n",
       "\n",
       "                                       a_content_comment  a_rating  \n",
       "0      Terrible !!!...open at 12 noon, close at 7pm. ...         1  \n",
       "1      I see other people's reviews about a lot of it...         4  \n",
       "2      As several previous reviewers have noted, the ...         2  \n",
       "3      We paid FULL price for the tickets, only to fi...         1  \n",
       "4      Multiple rides, shows (100% of the shows were ...         1  \n",
       "...                                                  ...       ...  \n",
       "10103  Ticket to enter the park costs SGD66.00 which ...         3  \n",
       "10104  Upon our entry, we decided to head around the ...         2  \n",
       "10105  While what they have got so far looks like it ...         2  \n",
       "10106  I expected Universal Studios Singapore to be i...         3  \n",
       "10107  most of the rides are functional except for th...         3  \n",
       "\n",
       "[10108 rows x 4 columns]"
      ]
     },
     "execution_count": 3,
     "metadata": {},
     "output_type": "execute_result"
    }
   ],
   "source": [
    "df = pd.read_csv('./uss.csv')\n",
    "df.head()\n",
    "df = df[['a_docId', 'a_comment_date', 'a_content_comment' , 'a_rating']]\n",
    "df['a_rating'] = [int(x[:1]) for x in df['a_rating']]\n",
    "df"
   ]
  },
  {
   "cell_type": "markdown",
   "metadata": {
    "id": "gqvsW0avCp6t"
   },
   "source": [
    "# Data Preprocessing ----------------------"
   ]
  },
  {
   "cell_type": "markdown",
   "metadata": {
    "id": "-N7mCFlw94-6"
   },
   "source": [
    "## Basic formatting"
   ]
  },
  {
   "cell_type": "code",
   "execution_count": 4,
   "metadata": {
    "id": "y-jMRXALCs-Z"
   },
   "outputs": [
    {
     "name": "stdout",
     "output_type": "stream",
     "text": [
      "----------Null values----------\n",
      "False\n",
      "----------DF shape----------\n",
      "(10108, 4)\n"
     ]
    }
   ],
   "source": [
    "# Check for null values and shape of df\n",
    "print('----------Null values----------')\n",
    "print(df.isnull().values.any())\n",
    "print('----------DF shape----------')\n",
    "print(df.shape)"
   ]
  },
  {
   "cell_type": "code",
   "execution_count": 5,
   "metadata": {
    "id": "rP2yzwSf6xAX"
   },
   "outputs": [
    {
     "name": "stdout",
     "output_type": "stream",
     "text": [
      "   a_docId a_comment_date                                  a_content_comment  \\\n",
      "0        1         Mar-22  Terrible !!!...open at 12 noon, close at 7pm. ...   \n",
      "1        2         Feb-22  I see other people's reviews about a lot of it...   \n",
      "2        3         Feb-22  As several previous reviewers have noted, the ...   \n",
      "3        8         Feb-22  We paid FULL price for the tickets, only to fi...   \n",
      "4        9         Feb-22  Multiple rides, shows (100% of the shows were ...   \n",
      "\n",
      "   a_rating  \n",
      "0         1  \n",
      "1         4  \n",
      "2         2  \n",
      "3         1  \n",
      "4         1  \n",
      "(10108, 4)\n"
     ]
    }
   ],
   "source": [
    "# Remove duplicates\n",
    "df.drop_duplicates(subset=\"a_docId\",inplace=True, keep=\"first\")\n",
    "\n",
    "print(df.head())\n",
    "print(df.shape)\n"
   ]
  },
  {
   "cell_type": "markdown",
   "metadata": {
    "id": "qvvv3vKs9wi9"
   },
   "source": [
    "## Add approximate sentiment"
   ]
  },
  {
   "cell_type": "code",
   "execution_count": 6,
   "metadata": {
    "id": "P1_Zd0vS9yZ-"
   },
   "outputs": [
    {
     "data": {
      "text/plain": [
       "<AxesSubplot:xlabel='approximate_sentiment', ylabel='count'>"
      ]
     },
     "execution_count": 6,
     "metadata": {},
     "output_type": "execute_result"
    },
    {
     "data": {
      "image/png": "[encoded data removed]",
      "text/plain": [
       "<Figure size 432x288 with 1 Axes>"
      ]
     },
     "metadata": {
      "needs_background": "light"
     },
     "output_type": "display_data"
    }
   ],
   "source": [
    "#Ratings 1, 2: Negative (class 0)\n",
    "#Rating 3: Neutral (class 1)\n",
    "#Rating 4, 5: Positive (class 2)\n",
    "\n",
    "def approximateSentiment(rating):\n",
    "    if rating < 3:\n",
    "        return 0\n",
    "    elif rating == 3:\n",
    "        return 1\n",
    "    else:\n",
    "        return 2\n",
    "    \n",
    "df['approximate_sentiment'] = df['a_rating'].apply(approximateSentiment)\n",
    "\n",
    "class_names = ['Positive' , 'Netural' , 'Negative']\n",
    "#View the approximate sentiment of the reviews, if there many neutral classes\n",
    "#Later will have to used weighted F1 score to tackle the issue of imbalanced dataset\n",
    "import seaborn as sns\n",
    "sns.countplot(x='approximate_sentiment', data=df)\n"
   ]
  },
  {
   "cell_type": "markdown",
   "metadata": {
    "id": "xQlLcegIgcAF"
   },
   "source": [
    "## Data cleaning"
   ]
  },
  {
   "cell_type": "code",
   "execution_count": 7,
   "metadata": {},
   "outputs": [
    {
     "name": "stdout",
     "output_type": "stream",
     "text": [
      "Init Plugin\n",
      "Init Graph Optimizer\n",
      "Init Kernel\n"
     ]
    },
    {
     "name": "stderr",
     "output_type": "stream",
     "text": [
      "[nltk_data] Downloading package wordnet to\n",
      "[nltk_data]     /Users/bryan123bryan/nltk_data...\n",
      "[nltk_data]   Package wordnet is already up-to-date!\n",
      "[nltk_data] Downloading package punkt to\n",
      "[nltk_data]     /Users/bryan123bryan/nltk_data...\n",
      "[nltk_data]   Package punkt is already up-to-date!\n",
      "[nltk_data] Downloading package stopwords to\n",
      "[nltk_data]     /Users/bryan123bryan/nltk_data...\n",
      "[nltk_data]   Package stopwords is already up-to-date!\n"
     ]
    }
   ],
   "source": [
    "import re\n",
    "\n",
    "import spacy\n",
    "import nltk\n",
    "from nltk.corpus import stopwords\n",
    "from nltk.stem import WordNetLemmatizer \n",
    "#download nltk data\n",
    "nltk.download('wordnet')\n",
    "nltk.download('punkt')\n",
    "nltk.download('stopwords')\n",
    "#load spacy library\n",
    "nlp=spacy.load('en_core_web_sm')\n",
    "\n",
    "\n",
    "\n",
    "\n",
    "# Store possible contractions\n",
    "\n",
    "contraction_dict = {\"can't\": \"cannot\", \"won't\": \"will not\",\"where's\": \"where is\", \"what's\": \"what is\", \n",
    "                    \"that's\": \"that is\", \"he's\": \"he is\", \"she's\": \"she is\", \"i'm\": \"i am\", \n",
    "                    \"aren't\": \"are not\", \"can't\": \"can not\", \"couldn't\": \"could not\", \"didn't\": \"did not\", \"didn’t\": \"did not\",\n",
    "                    \"doesn't\": \"does not\", \"don't\": \"do not\", \"hadn't\": \"had not\", \"hasn't\": \"has not\", \n",
    "                    \"haven't\": \"have not\", \"he'd\": \"he had\", \"he'll\": \"he will\", \"he's\": \"he is\",\n",
    "                    \"i'd\": \"i had\", \"i'll\": \"i will\", \"i'm\": \"i am\", \"i've\": \"i have\", \n",
    "                    \"isn't\": \"is not\", \"let's\": \"let us\", \"mightn't\": \"might not\", \"mustn't\": \"must not\",\n",
    "                    \"shan't\": \"shall not\", \"she'd\": \"she had\", \"she'll\": \"she will\", \"she's\": \"she is\", \n",
    "                    \"shouldn't\": \"should not\", \"that's\": \"that is\", \"there's\": \"there is\", \"they'd\": \"they had\",\n",
    "                    \"they'll\": \"they will\", \"they're\": \"they are\", \"they've\": \"they have\", \"we'd\": \"we had\", \n",
    "                    \"we're\": \"we are\", \"we've\": \"we have\", \"weren't\": \"were not\", \"what'll\": \"what will\",\n",
    "                    \"what're\": \"what are\", \"what's\": \"what is\", \"what've\": \"what have\", \"where's\": \"where is\", \n",
    "                    \"who'd\": \"who had\", \"who'll\": \"who will\", \"who're\": \"who are\", \"who's\": \"who is\",\n",
    "                    \"who've\": \"who have\", \"won't\": \"will not\", \"wouldn't\": \"would not\", \"you'd\": \"you had\", \n",
    "                    \"you'll\": \"you will\", \"you're\": \"you are\", \"you've\": \"you have\", \"aaaa\": \"bbbb\",\n",
    "                    \"how'd\": \"how did\", \"how'd'y\": \"how do you\", \"how'll\": \"how will\", \"how's\": \"how is\", \n",
    "                    \"it'd've\": \"it would have\", \"it'll\": \"it will\", \"it'll've\": \"it will have\",\"it's\": \"it is\",\n",
    "                    \"ma'am\": \"madam\", \"mayn't\": \"may not\", \"aaaa\": \"bbbb\", \"aaaa\": \"bbbb\",\n",
    "                    \"needn't\": \"need not\", \"needn't've\": \"need not have\",\"o'clock\": \"of the clock\",\n",
    "                    \"oughtn't\": \"ought not\", \"oughtn't've\": \"ought not have\", \"where'd\": \"where did\",\n",
    "                   \"e.g.\": \"\", \"eg\": \"\", \"i.e.\": \"\", \"ie\": \"\", \"e.t.c.\": \"\", \"etc\": \"\" }"
   ]
  },
  {
   "cell_type": "code",
   "execution_count": 8,
   "metadata": {
    "id": "9rDLbYdcbZiE"
   },
   "outputs": [],
   "source": [
    "def removeStopwords(text, stopList):\n",
    "    string = \"\"\n",
    "\n",
    "    specificStopwords = ['universal', 'studios', 'sg', 'uss', 'us', 'singapore', 'day', 'ride', 'park']\n",
    "    \n",
    "    for word in text.split():\n",
    "        if word not in stopList and word not in specificStopwords:\n",
    "            string += word + \" \"\n",
    "\n",
    "    return string\n",
    "\n",
    "\n",
    "\n",
    "def cleanData(review):\n",
    "    #case folding\n",
    "    review = review.lower()\n",
    "    \n",
    "    #remove general contractions\n",
    "    review = re.sub(r\"\\'d\",\" would\",review)\n",
    "    review = re.sub(r\"\\'ll\",\" will\",review)\n",
    "    review = re.sub(\"\\'s\",\" \",review)\n",
    "    review = re.sub(r\"\\'re\",\" are\",review)\n",
    "    review = re.sub(r\"\\'ve\",\" have\",review)\n",
    "    \n",
    "    #remove common contractions using stored contraction dictionary\n",
    "    review = ' '.join([contraction_dict[t] if t in contraction_dict else t for t in review.split(\" \")]) \n",
    "    \n",
    "\n",
    "    #remove characters and symbols\n",
    "    review = re.sub(r\"[^a-zA-Z0-9]\",\" \",review)  #remove special characters\n",
    "    review = re.sub(r\"[0-9]+\", \"\", review)  #remove numbers\n",
    "    review = re.sub(\"(\\\\b[A-Za-z] \\\\b|\\\\b [A-Za-z]\\\\b)\", \"\", review)  #remove single letters\n",
    "    review = review.replace('   ', ' ') #change triple spaces to single space\n",
    "    review = review.replace('  ', ' ') #change double spaces to single space\n",
    "    \n",
    "    \n",
    "    #remove stopwords\n",
    "    #stopwords of spacy\n",
    "    stoplist1=nlp.Defaults.stop_words\n",
    "    #stopwords of NLTK\n",
    "    stoplist2=stopwords.words('english')\n",
    "    #combining the stopword list\n",
    "    combinedStopwords=set((set(stoplist1)|set(stoplist2)))\n",
    "    review = removeStopwords(review, combinedStopwords)\n",
    "    \n",
    "    \n",
    "    \n",
    "    #lemmatization\n",
    "    review = nlp(review)\n",
    "    review = \" \".join([token.lemma_ for token in review])\n",
    "    review = review.replace('-PRON-', '')\n",
    "    \n",
    "    \n",
    "    \n",
    "    return review\n",
    "    "
   ]
  },
  {
   "cell_type": "code",
   "execution_count": 9,
   "metadata": {},
   "outputs": [
    {
     "data": {
      "text/html": [
       "<div>\n",
       "<style scoped>\n",
       "    .dataframe tbody tr th:only-of-type {\n",
       "        vertical-align: middle;\n",
       "    }\n",
       "\n",
       "    .dataframe tbody tr th {\n",
       "        vertical-align: top;\n",
       "    }\n",
       "\n",
       "    .dataframe thead th {\n",
       "        text-align: right;\n",
       "    }\n",
       "</style>\n",
       "<table border=\"1\" class=\"dataframe\">\n",
       "  <thead>\n",
       "    <tr style=\"text-align: right;\">\n",
       "      <th></th>\n",
       "      <th>a_docId</th>\n",
       "      <th>a_comment_date</th>\n",
       "      <th>a_content_comment</th>\n",
       "      <th>a_rating</th>\n",
       "      <th>approximate_sentiment</th>\n",
       "      <th>a_clean_content</th>\n",
       "    </tr>\n",
       "  </thead>\n",
       "  <tbody>\n",
       "    <tr>\n",
       "      <th>0</th>\n",
       "      <td>1</td>\n",
       "      <td>Mar-22</td>\n",
       "      <td>Terrible !!!...open at 12 noon, close at 7pm. ...</td>\n",
       "      <td>1</td>\n",
       "      <td>0</td>\n",
       "      <td>terrible open noon close pm queue min ride can...</td>\n",
       "    </tr>\n",
       "    <tr>\n",
       "      <th>1</th>\n",
       "      <td>2</td>\n",
       "      <td>Feb-22</td>\n",
       "      <td>I see other people's reviews about a lot of it...</td>\n",
       "      <td>4</td>\n",
       "      <td>2</td>\n",
       "      <td>people review lot closed enjoy went sunday mor...</td>\n",
       "    </tr>\n",
       "    <tr>\n",
       "      <th>2</th>\n",
       "      <td>3</td>\n",
       "      <td>Feb-22</td>\n",
       "      <td>As several previous reviewers have noted, the ...</td>\n",
       "      <td>2</td>\n",
       "      <td>0</td>\n",
       "      <td>previous reviewer note way operate moment make...</td>\n",
       "    </tr>\n",
       "    <tr>\n",
       "      <th>3</th>\n",
       "      <td>8</td>\n",
       "      <td>Feb-22</td>\n",
       "      <td>We paid FULL price for the tickets, only to fi...</td>\n",
       "      <td>1</td>\n",
       "      <td>0</td>\n",
       "      <td>pay price ticket find ride show closed ride re...</td>\n",
       "    </tr>\n",
       "    <tr>\n",
       "      <th>4</th>\n",
       "      <td>9</td>\n",
       "      <td>Feb-22</td>\n",
       "      <td>Multiple rides, shows (100% of the shows were ...</td>\n",
       "      <td>1</td>\n",
       "      <td>0</td>\n",
       "      <td>multiple ride show show available visit street...</td>\n",
       "    </tr>\n",
       "    <tr>\n",
       "      <th>...</th>\n",
       "      <td>...</td>\n",
       "      <td>...</td>\n",
       "      <td>...</td>\n",
       "      <td>...</td>\n",
       "      <td>...</td>\n",
       "      <td>...</td>\n",
       "    </tr>\n",
       "    <tr>\n",
       "      <th>10103</th>\n",
       "      <td>15773</td>\n",
       "      <td>Failed</td>\n",
       "      <td>Ticket to enter the park costs SGD66.00 which ...</td>\n",
       "      <td>3</td>\n",
       "      <td>1</td>\n",
       "      <td>ticket enter cost sgd frankly bit overpriced e...</td>\n",
       "    </tr>\n",
       "    <tr>\n",
       "      <th>10104</th>\n",
       "      <td>15774</td>\n",
       "      <td>Failed</td>\n",
       "      <td>Upon our entry, we decided to head around the ...</td>\n",
       "      <td>2</td>\n",
       "      <td>0</td>\n",
       "      <td>entry decide head clockwise madagascar stop su...</td>\n",
       "    </tr>\n",
       "    <tr>\n",
       "      <th>10105</th>\n",
       "      <td>15775</td>\n",
       "      <td>Failed</td>\n",
       "      <td>While what they have got so far looks like it ...</td>\n",
       "      <td>2</td>\n",
       "      <td>0</td>\n",
       "      <td>get far look like amazing find unbelievable pl...</td>\n",
       "    </tr>\n",
       "    <tr>\n",
       "      <th>10106</th>\n",
       "      <td>15776</td>\n",
       "      <td>Failed</td>\n",
       "      <td>I expected Universal Studios Singapore to be i...</td>\n",
       "      <td>3</td>\n",
       "      <td>1</td>\n",
       "      <td>expect par typical theme standard dissapointme...</td>\n",
       "    </tr>\n",
       "    <tr>\n",
       "      <th>10107</th>\n",
       "      <td>15777</td>\n",
       "      <td>Failed</td>\n",
       "      <td>most of the rides are functional except for th...</td>\n",
       "      <td>3</td>\n",
       "      <td>1</td>\n",
       "      <td>ride functional madagascar small walk entire p...</td>\n",
       "    </tr>\n",
       "  </tbody>\n",
       "</table>\n",
       "<p>10108 rows × 6 columns</p>\n",
       "</div>"
      ],
      "text/plain": [
       "       a_docId a_comment_date  \\\n",
       "0            1         Mar-22   \n",
       "1            2         Feb-22   \n",
       "2            3         Feb-22   \n",
       "3            8         Feb-22   \n",
       "4            9         Feb-22   \n",
       "...        ...            ...   \n",
       "10103    15773         Failed   \n",
       "10104    15774         Failed   \n",
       "10105    15775         Failed   \n",
       "10106    15776         Failed   \n",
       "10107    15777         Failed   \n",
       "\n",
       "                                       a_content_comment  a_rating  \\\n",
       "0      Terrible !!!...open at 12 noon, close at 7pm. ...         1   \n",
       "1      I see other people's reviews about a lot of it...         4   \n",
       "2      As several previous reviewers have noted, the ...         2   \n",
       "3      We paid FULL price for the tickets, only to fi...         1   \n",
       "4      Multiple rides, shows (100% of the shows were ...         1   \n",
       "...                                                  ...       ...   \n",
       "10103  Ticket to enter the park costs SGD66.00 which ...         3   \n",
       "10104  Upon our entry, we decided to head around the ...         2   \n",
       "10105  While what they have got so far looks like it ...         2   \n",
       "10106  I expected Universal Studios Singapore to be i...         3   \n",
       "10107  most of the rides are functional except for th...         3   \n",
       "\n",
       "       approximate_sentiment  \\\n",
       "0                          0   \n",
       "1                          2   \n",
       "2                          0   \n",
       "3                          0   \n",
       "4                          0   \n",
       "...                      ...   \n",
       "10103                      1   \n",
       "10104                      0   \n",
       "10105                      0   \n",
       "10106                      1   \n",
       "10107                      1   \n",
       "\n",
       "                                         a_clean_content  \n",
       "0      terrible open noon close pm queue min ride can...  \n",
       "1      people review lot closed enjoy went sunday mor...  \n",
       "2      previous reviewer note way operate moment make...  \n",
       "3      pay price ticket find ride show closed ride re...  \n",
       "4      multiple ride show show available visit street...  \n",
       "...                                                  ...  \n",
       "10103  ticket enter cost sgd frankly bit overpriced e...  \n",
       "10104  entry decide head clockwise madagascar stop su...  \n",
       "10105  get far look like amazing find unbelievable pl...  \n",
       "10106  expect par typical theme standard dissapointme...  \n",
       "10107  ride functional madagascar small walk entire p...  \n",
       "\n",
       "[10108 rows x 6 columns]"
      ]
     },
     "execution_count": 9,
     "metadata": {},
     "output_type": "execute_result"
    }
   ],
   "source": [
    "# Clean data\n",
    "df['a_clean_content'] = df['a_content_comment'].apply(cleanData)\n",
    "df"
   ]
  },
  {
   "cell_type": "code",
   "execution_count": 10,
   "metadata": {},
   "outputs": [
    {
     "name": "stdout",
     "output_type": "stream",
     "text": [
      "------------Original text------------\n",
      "Terrible !!!...open at 12 noon, close at 7pm. Everything also have to queue 40 to 60 mins. Only can do 3 rides, cant even have time to dine in. ice cream also need to redeem 30 mins before closing time. Weather is super hot....a few shops only opened to sell water. Tired of queueing insted of the facilities. Expensive and now worth it at all. Wasted time here in USS Singapore !!! USA is better !!!\n",
      "\n",
      "------------Text after cleaning------------\n",
      "terrible open noon close pm queue min ride can not time dine ice cream need redeem min closing time weather super hot shop open sell water tired queue inste facility expensive worth waste time usa well\n"
     ]
    }
   ],
   "source": [
    "#text = df['a_content_comment'][9]\n",
    "print('------------Original text------------')\n",
    "print(df['a_content_comment'].iloc[0])\n",
    "\n",
    "print()\n",
    "print('------------Text after cleaning------------')\n",
    "print(df['a_clean_content'].iloc[0])"
   ]
  },
  {
   "cell_type": "code",
   "execution_count": 11,
   "metadata": {},
   "outputs": [],
   "source": [
    "df.to_csv('uss_cleaned.csv', index=False)"
   ]
  },
  {
   "cell_type": "code",
   "execution_count": null,
   "metadata": {},
   "outputs": [],
   "source": []
  },
  {
   "cell_type": "code",
   "execution_count": null,
   "metadata": {},
   "outputs": [],
   "source": []
  }
 ],
 "metadata": {
  "colab": {
   "collapsed_sections": [
    "_mbt0kOvBsbO"
   ],
   "name": "Task 3 Classification.ipynb",
   "provenance": []
  },
  "kernelspec": {
   "display_name": "Python 3 (ipykernel)",
   "language": "python",
   "name": "python3"
  },
  "language_info": {
   "codemirror_mode": {
    "name": "ipython",
    "version": 3
   },
   "file_extension": ".py",
   "mimetype": "text/x-python",
   "name": "python",
   "nbconvert_exporter": "python",
   "pygments_lexer": "ipython3",
   "version": "3.9.12"
  }
 },
 "nbformat": 4,
 "nbformat_minor": 1
}
