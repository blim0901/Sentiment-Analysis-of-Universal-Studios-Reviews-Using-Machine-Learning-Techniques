{
 "cells": [
  {
   "cell_type": "markdown",
   "metadata": {
    "id": "_mbt0kOvBsbO"
   },
   "source": [
    "# Import data and libraries ----------------------"
   ]
  },
  {
   "cell_type": "code",
   "execution_count": null,
   "metadata": {
    "id": "ZKuRpuyUgJJD"
   },
   "outputs": [],
   "source": [
    "import os\n",
    "import pandas as pd\n",
    "import tensorflow as tf\n",
    "import tensorflow_hub as hub\n",
    "#import tensorflow_text\n",
    "import numpy as np\n",
    "\n",
    "from tensorflow.keras.preprocessing.text import Tokenizer\n",
    "from tensorflow.keras.preprocessing.sequence import pad_sequences\n",
    "from tensorflow.keras.utils import to_categorical\n",
    "#Word2Vec wiki model\n",
    "import urllib.request\n",
    "import zipfile\n",
    "import os\n",
    "\n",
    "# keras layers\n",
    "from tensorflow.keras.callbacks import Callback\n",
    "from tensorflow.keras.models import Sequential\n",
    "from tensorflow.keras.layers import Embedding, Bidirectional, LSTM, GRU, Dense,Concatenate,Conv1D,GlobalMaxPooling1D,SpatialDropout1D,Dropout,Flatten\n",
    "\n",
    "#CNN model\n",
    "from tensorflow.keras.wrappers.scikit_learn import KerasClassifier\n",
    "from sklearn.model_selection import RandomizedSearchCV\n",
    "\n",
    "\n",
    "# plots and metrics\n",
    "import matplotlib.pyplot as plt\n",
    "from sklearn.metrics import accuracy_score, f1_score, confusion_matrix"
   ]
  },
  {
   "cell_type": "code",
   "execution_count": null,
   "metadata": {
    "colab": {
     "base_uri": "https://localhost:8080/",
     "height": 444
    },
    "id": "xRhy-sYcCmQ8",
    "outputId": "f02d620b-d6e8-4eb5-ca0e-b591ca6c3861"
   },
   "outputs": [
    {
     "name": "stdout",
     "output_type": "stream",
     "text": [
      "Drive already mounted at /content/drive; to attempt to forcibly remount, call drive.mount(\"/content/drive\", force_remount=True).\n"
     ]
    },
    {
     "data": {
      "text/html": [
       "\n",
       "  <div id=\"df-1760959f-9f89-4af9-a3d4-5939fecfe048\">\n",
       "    <div class=\"colab-df-container\">\n",
       "      <div>\n",
       "<style scoped>\n",
       "    .dataframe tbody tr th:only-of-type {\n",
       "        vertical-align: middle;\n",
       "    }\n",
       "\n",
       "    .dataframe tbody tr th {\n",
       "        vertical-align: top;\n",
       "    }\n",
       "\n",
       "    .dataframe thead th {\n",
       "        text-align: right;\n",
       "    }\n",
       "</style>\n",
       "<table border=\"1\" class=\"dataframe\">\n",
       "  <thead>\n",
       "    <tr style=\"text-align: right;\">\n",
       "      <th></th>\n",
       "      <th>a_docId</th>\n",
       "      <th>a_comment_date</th>\n",
       "      <th>a_content_comment</th>\n",
       "      <th>a_rating</th>\n",
       "      <th>approximate_sentiment</th>\n",
       "      <th>a_clean_content</th>\n",
       "    </tr>\n",
       "  </thead>\n",
       "  <tbody>\n",
       "    <tr>\n",
       "      <th>0</th>\n",
       "      <td>1</td>\n",
       "      <td>Mar-22</td>\n",
       "      <td>Terrible !!!...open at 12 noon, close at 7pm. ...</td>\n",
       "      <td>1</td>\n",
       "      <td>0</td>\n",
       "      <td>terrible open noon close pm queue min ride can...</td>\n",
       "    </tr>\n",
       "    <tr>\n",
       "      <th>1</th>\n",
       "      <td>2</td>\n",
       "      <td>Feb-22</td>\n",
       "      <td>I see other people's reviews about a lot of it...</td>\n",
       "      <td>4</td>\n",
       "      <td>2</td>\n",
       "      <td>people review lot closed enjoy went sunday mor...</td>\n",
       "    </tr>\n",
       "    <tr>\n",
       "      <th>2</th>\n",
       "      <td>3</td>\n",
       "      <td>Feb-22</td>\n",
       "      <td>As several previous reviewers have noted, the ...</td>\n",
       "      <td>2</td>\n",
       "      <td>0</td>\n",
       "      <td>previous reviewer note way operate moment make...</td>\n",
       "    </tr>\n",
       "    <tr>\n",
       "      <th>3</th>\n",
       "      <td>8</td>\n",
       "      <td>Feb-22</td>\n",
       "      <td>We paid FULL price for the tickets, only to fi...</td>\n",
       "      <td>1</td>\n",
       "      <td>0</td>\n",
       "      <td>pay price ticket find ride show closed ride re...</td>\n",
       "    </tr>\n",
       "    <tr>\n",
       "      <th>4</th>\n",
       "      <td>9</td>\n",
       "      <td>Feb-22</td>\n",
       "      <td>Multiple rides, shows (100% of the shows were ...</td>\n",
       "      <td>1</td>\n",
       "      <td>0</td>\n",
       "      <td>multiple ride show show available visit street...</td>\n",
       "    </tr>\n",
       "  </tbody>\n",
       "</table>\n",
       "</div>\n",
       "      <button class=\"colab-df-convert\" onclick=\"convertToInteractive('df-1760959f-9f89-4af9-a3d4-5939fecfe048')\"\n",
       "              title=\"Convert this dataframe to an interactive table.\"\n",
       "              style=\"display:none;\">\n",
       "        \n",
       "  <svg xmlns=\"http://www.w3.org/2000/svg\" height=\"24px\"viewBox=\"0 0 24 24\"\n",
       "       width=\"24px\">\n",
       "    <path d=\"M0 0h24v24H0V0z\" fill=\"none\"/>\n",
       "    <path d=\"M18.56 5.44l.94 2.06.94-2.06 2.06-.94-2.06-.94-.94-2.06-.94 2.06-2.06.94zm-11 1L8.5 8.5l.94-2.06 2.06-.94-2.06-.94L8.5 2.5l-.94 2.06-2.06.94zm10 10l.94 2.06.94-2.06 2.06-.94-2.06-.94-.94-2.06-.94 2.06-2.06.94z\"/><path d=\"M17.41 7.96l-1.37-1.37c-.4-.4-.92-.59-1.43-.59-.52 0-1.04.2-1.43.59L10.3 9.45l-7.72 7.72c-.78.78-.78 2.05 0 2.83L4 21.41c.39.39.9.59 1.41.59.51 0 1.02-.2 1.41-.59l7.78-7.78 2.81-2.81c.8-.78.8-2.07 0-2.86zM5.41 20L4 18.59l7.72-7.72 1.47 1.35L5.41 20z\"/>\n",
       "  </svg>\n",
       "      </button>\n",
       "      \n",
       "  <style>\n",
       "    .colab-df-container {\n",
       "      display:flex;\n",
       "      flex-wrap:wrap;\n",
       "      gap: 12px;\n",
       "    }\n",
       "\n",
       "    .colab-df-convert {\n",
       "      background-color: #E8F0FE;\n",
       "      border: none;\n",
       "      border-radius: 50%;\n",
       "      cursor: pointer;\n",
       "      display: none;\n",
       "      fill: #1967D2;\n",
       "      height: 32px;\n",
       "      padding: 0 0 0 0;\n",
       "      width: 32px;\n",
       "    }\n",
       "\n",
       "    .colab-df-convert:hover {\n",
       "      background-color: #E2EBFA;\n",
       "      box-shadow: 0px 1px 2px rgba(60, 64, 67, 0.3), 0px 1px 3px 1px rgba(60, 64, 67, 0.15);\n",
       "      fill: #174EA6;\n",
       "    }\n",
       "\n",
       "    [theme=dark] .colab-df-convert {\n",
       "      background-color: #3B4455;\n",
       "      fill: #D2E3FC;\n",
       "    }\n",
       "\n",
       "    [theme=dark] .colab-df-convert:hover {\n",
       "      background-color: #434B5C;\n",
       "      box-shadow: 0px 1px 3px 1px rgba(0, 0, 0, 0.15);\n",
       "      filter: drop-shadow(0px 1px 2px rgba(0, 0, 0, 0.3));\n",
       "      fill: #FFFFFF;\n",
       "    }\n",
       "  </style>\n",
       "\n",
       "      <script>\n",
       "        const buttonEl =\n",
       "          document.querySelector('#df-1760959f-9f89-4af9-a3d4-5939fecfe048 button.colab-df-convert');\n",
       "        buttonEl.style.display =\n",
       "          google.colab.kernel.accessAllowed ? 'block' : 'none';\n",
       "\n",
       "        async function convertToInteractive(key) {\n",
       "          const element = document.querySelector('#df-1760959f-9f89-4af9-a3d4-5939fecfe048');\n",
       "          const dataTable =\n",
       "            await google.colab.kernel.invokeFunction('convertToInteractive',\n",
       "                                                     [key], {});\n",
       "          if (!dataTable) return;\n",
       "\n",
       "          const docLinkHtml = 'Like what you see? Visit the ' +\n",
       "            '<a target=\"_blank\" href=https://colab.research.google.com/notebooks/data_table.ipynb>data table notebook</a>'\n",
       "            + ' to learn more about interactive tables.';\n",
       "          element.innerHTML = '';\n",
       "          dataTable['output_type'] = 'display_data';\n",
       "          await google.colab.output.renderOutput(dataTable, element);\n",
       "          const docLink = document.createElement('div');\n",
       "          docLink.innerHTML = docLinkHtml;\n",
       "          element.appendChild(docLink);\n",
       "        }\n",
       "      </script>\n",
       "    </div>\n",
       "  </div>\n",
       "  "
      ],
      "text/plain": [
       "   a_docId a_comment_date                                  a_content_comment  \\\n",
       "0        1         Mar-22  Terrible !!!...open at 12 noon, close at 7pm. ...   \n",
       "1        2         Feb-22  I see other people's reviews about a lot of it...   \n",
       "2        3         Feb-22  As several previous reviewers have noted, the ...   \n",
       "3        8         Feb-22  We paid FULL price for the tickets, only to fi...   \n",
       "4        9         Feb-22  Multiple rides, shows (100% of the shows were ...   \n",
       "\n",
       "   a_rating  approximate_sentiment  \\\n",
       "0         1                      0   \n",
       "1         4                      2   \n",
       "2         2                      0   \n",
       "3         1                      0   \n",
       "4         1                      0   \n",
       "\n",
       "                                     a_clean_content  \n",
       "0  terrible open noon close pm queue min ride can...  \n",
       "1  people review lot closed enjoy went sunday mor...  \n",
       "2  previous reviewer note way operate moment make...  \n",
       "3  pay price ticket find ride show closed ride re...  \n",
       "4  multiple ride show show available visit street...  "
      ]
     },
     "execution_count": 14,
     "metadata": {},
     "output_type": "execute_result"
    }
   ],
   "source": [
    "df = pd.read_csv('./uss_cleaned.csv')\n",
    "df['a_clean_content'] = df['a_clean_content'].astype(str)\n",
    "df.head()"
   ]
  },
  {
   "cell_type": "code",
   "execution_count": null,
   "metadata": {
    "colab": {
     "base_uri": "https://localhost:8080/"
    },
    "id": "y-jMRXALCs-Z",
    "outputId": "b2fe95f0-3828-48ad-f399-80a1061ce251"
   },
   "outputs": [
    {
     "name": "stdout",
     "output_type": "stream",
     "text": [
      "----------Null values----------\n",
      "False\n",
      "----------DF shape----------\n",
      "(10108, 6)\n"
     ]
    }
   ],
   "source": [
    "# Check for null values and shape of df\n",
    "print('----------Null values----------')\n",
    "print(df.isnull().values.any())\n",
    "print('----------DF shape----------')\n",
    "print(df.shape)"
   ]
  },
  {
   "cell_type": "markdown",
   "metadata": {
    "id": "qvvv3vKs9wi9"
   },
   "source": [
    "## Add approximate sentiment"
   ]
  },
  {
   "cell_type": "code",
   "execution_count": null,
   "metadata": {
    "colab": {
     "base_uri": "https://localhost:8080/",
     "height": 404
    },
    "id": "P1_Zd0vS9yZ-",
    "outputId": "646f519a-2b49-499c-eeed-6d65bde93430"
   },
   "outputs": [
    {
     "name": "stderr",
     "output_type": "stream",
     "text": [
      "/usr/local/lib/python3.7/dist-packages/ipykernel_launcher.py:22: SettingWithCopyWarning: \n",
      "A value is trying to be set on a copy of a slice from a DataFrame.\n",
      "Try using .loc[row_indexer,col_indexer] = value instead\n",
      "\n",
      "See the caveats in the documentation: https://pandas.pydata.org/pandas-docs/stable/user_guide/indexing.html#returning-a-view-versus-a-copy\n"
     ]
    },
    {
     "data": {
      "text/plain": [
       "<matplotlib.axes._subplots.AxesSubplot at 0x7ff82e6c4390>"
      ]
     },
     "execution_count": 15,
     "metadata": {},
     "output_type": "execute_result"
    },
    {
     "data": {
      "image/png": "[encoded data removed]",
      "text/plain": [
       "<Figure size 432x288 with 1 Axes>"
      ]
     },
     "metadata": {
      "needs_background": "light"
     },
     "output_type": "display_data"
    }
   ],
   "source": [
    "#Ratings 1, 2: Negative (class 0)\n",
    "#Rating 3: Neutral (class 1)\n",
    "#Rating 4, 5: Positive (class 2)\n",
    "\n",
    "def approximateSentiment(rating):\n",
    "    \n",
    "    if int(rating) > 3:\n",
    "        return 1\n",
    "    elif int(rating) < 3:\n",
    "        return 0\n",
    "    \n",
    "\n",
    "df = df[df['a_rating'] != 3]\n",
    "df['approximate_sentiment'] = df['a_rating'].apply(approximateSentiment)\n",
    "\n",
    "class_names = ['Negative' , 'Positive']\n",
    "#View the approximate sentiment of the reviews, if there many neutral classes\n",
    "#Later will have to used weighted F1 score to tackle the issue of imbalanced dataset\n",
    "import seaborn as sns\n",
    "sns.countplot(x='approximate_sentiment', data=df)\n"
   ]
  },
  {
   "cell_type": "code",
   "execution_count": null,
   "metadata": {
    "colab": {
     "base_uri": "https://localhost:8080/",
     "height": 406
    },
    "id": "gMWikq_hgJJF",
    "outputId": "3454b9b4-ca5c-4c1b-c3b5-6ed67920513a"
   },
   "outputs": [
    {
     "data": {
      "text/html": [
       "\n",
       "  <div id=\"df-0c26f5ac-b1b5-4ebb-a655-f8883a1ba7ed\">\n",
       "    <div class=\"colab-df-container\">\n",
       "      <div>\n",
       "<style scoped>\n",
       "    .dataframe tbody tr th:only-of-type {\n",
       "        vertical-align: middle;\n",
       "    }\n",
       "\n",
       "    .dataframe tbody tr th {\n",
       "        vertical-align: top;\n",
       "    }\n",
       "\n",
       "    .dataframe thead th {\n",
       "        text-align: right;\n",
       "    }\n",
       "</style>\n",
       "<table border=\"1\" class=\"dataframe\">\n",
       "  <thead>\n",
       "    <tr style=\"text-align: right;\">\n",
       "      <th></th>\n",
       "      <th>a_docId</th>\n",
       "      <th>a_comment_date</th>\n",
       "      <th>a_content_comment</th>\n",
       "      <th>a_rating</th>\n",
       "      <th>approximate_sentiment</th>\n",
       "      <th>a_clean_content</th>\n",
       "    </tr>\n",
       "  </thead>\n",
       "  <tbody>\n",
       "    <tr>\n",
       "      <th>0</th>\n",
       "      <td>1</td>\n",
       "      <td>Mar-22</td>\n",
       "      <td>Terrible !!!...open at 12 noon, close at 7pm. ...</td>\n",
       "      <td>1</td>\n",
       "      <td>0</td>\n",
       "      <td>terrible open noon close pm queue min ride can...</td>\n",
       "    </tr>\n",
       "    <tr>\n",
       "      <th>1</th>\n",
       "      <td>2</td>\n",
       "      <td>Feb-22</td>\n",
       "      <td>I see other people's reviews about a lot of it...</td>\n",
       "      <td>4</td>\n",
       "      <td>1</td>\n",
       "      <td>people review lot closed enjoy went sunday mor...</td>\n",
       "    </tr>\n",
       "    <tr>\n",
       "      <th>2</th>\n",
       "      <td>3</td>\n",
       "      <td>Feb-22</td>\n",
       "      <td>As several previous reviewers have noted, the ...</td>\n",
       "      <td>2</td>\n",
       "      <td>0</td>\n",
       "      <td>previous reviewer note way operate moment make...</td>\n",
       "    </tr>\n",
       "    <tr>\n",
       "      <th>3</th>\n",
       "      <td>8</td>\n",
       "      <td>Feb-22</td>\n",
       "      <td>We paid FULL price for the tickets, only to fi...</td>\n",
       "      <td>1</td>\n",
       "      <td>0</td>\n",
       "      <td>pay price ticket find ride show closed ride re...</td>\n",
       "    </tr>\n",
       "    <tr>\n",
       "      <th>4</th>\n",
       "      <td>9</td>\n",
       "      <td>Feb-22</td>\n",
       "      <td>Multiple rides, shows (100% of the shows were ...</td>\n",
       "      <td>1</td>\n",
       "      <td>0</td>\n",
       "      <td>multiple ride show show available visit street...</td>\n",
       "    </tr>\n",
       "  </tbody>\n",
       "</table>\n",
       "</div>\n",
       "      <button class=\"colab-df-convert\" onclick=\"convertToInteractive('df-0c26f5ac-b1b5-4ebb-a655-f8883a1ba7ed')\"\n",
       "              title=\"Convert this dataframe to an interactive table.\"\n",
       "              style=\"display:none;\">\n",
       "        \n",
       "  <svg xmlns=\"http://www.w3.org/2000/svg\" height=\"24px\"viewBox=\"0 0 24 24\"\n",
       "       width=\"24px\">\n",
       "    <path d=\"M0 0h24v24H0V0z\" fill=\"none\"/>\n",
       "    <path d=\"M18.56 5.44l.94 2.06.94-2.06 2.06-.94-2.06-.94-.94-2.06-.94 2.06-2.06.94zm-11 1L8.5 8.5l.94-2.06 2.06-.94-2.06-.94L8.5 2.5l-.94 2.06-2.06.94zm10 10l.94 2.06.94-2.06 2.06-.94-2.06-.94-.94-2.06-.94 2.06-2.06.94z\"/><path d=\"M17.41 7.96l-1.37-1.37c-.4-.4-.92-.59-1.43-.59-.52 0-1.04.2-1.43.59L10.3 9.45l-7.72 7.72c-.78.78-.78 2.05 0 2.83L4 21.41c.39.39.9.59 1.41.59.51 0 1.02-.2 1.41-.59l7.78-7.78 2.81-2.81c.8-.78.8-2.07 0-2.86zM5.41 20L4 18.59l7.72-7.72 1.47 1.35L5.41 20z\"/>\n",
       "  </svg>\n",
       "      </button>\n",
       "      \n",
       "  <style>\n",
       "    .colab-df-container {\n",
       "      display:flex;\n",
       "      flex-wrap:wrap;\n",
       "      gap: 12px;\n",
       "    }\n",
       "\n",
       "    .colab-df-convert {\n",
       "      background-color: #E8F0FE;\n",
       "      border: none;\n",
       "      border-radius: 50%;\n",
       "      cursor: pointer;\n",
       "      display: none;\n",
       "      fill: #1967D2;\n",
       "      height: 32px;\n",
       "      padding: 0 0 0 0;\n",
       "      width: 32px;\n",
       "    }\n",
       "\n",
       "    .colab-df-convert:hover {\n",
       "      background-color: #E2EBFA;\n",
       "      box-shadow: 0px 1px 2px rgba(60, 64, 67, 0.3), 0px 1px 3px 1px rgba(60, 64, 67, 0.15);\n",
       "      fill: #174EA6;\n",
       "    }\n",
       "\n",
       "    [theme=dark] .colab-df-convert {\n",
       "      background-color: #3B4455;\n",
       "      fill: #D2E3FC;\n",
       "    }\n",
       "\n",
       "    [theme=dark] .colab-df-convert:hover {\n",
       "      background-color: #434B5C;\n",
       "      box-shadow: 0px 1px 3px 1px rgba(0, 0, 0, 0.15);\n",
       "      filter: drop-shadow(0px 1px 2px rgba(0, 0, 0, 0.3));\n",
       "      fill: #FFFFFF;\n",
       "    }\n",
       "  </style>\n",
       "\n",
       "      <script>\n",
       "        const buttonEl =\n",
       "          document.querySelector('#df-0c26f5ac-b1b5-4ebb-a655-f8883a1ba7ed button.colab-df-convert');\n",
       "        buttonEl.style.display =\n",
       "          google.colab.kernel.accessAllowed ? 'block' : 'none';\n",
       "\n",
       "        async function convertToInteractive(key) {\n",
       "          const element = document.querySelector('#df-0c26f5ac-b1b5-4ebb-a655-f8883a1ba7ed');\n",
       "          const dataTable =\n",
       "            await google.colab.kernel.invokeFunction('convertToInteractive',\n",
       "                                                     [key], {});\n",
       "          if (!dataTable) return;\n",
       "\n",
       "          const docLinkHtml = 'Like what you see? Visit the ' +\n",
       "            '<a target=\"_blank\" href=https://colab.research.google.com/notebooks/data_table.ipynb>data table notebook</a>'\n",
       "            + ' to learn more about interactive tables.';\n",
       "          element.innerHTML = '';\n",
       "          dataTable['output_type'] = 'display_data';\n",
       "          await google.colab.output.renderOutput(dataTable, element);\n",
       "          const docLink = document.createElement('div');\n",
       "          docLink.innerHTML = docLinkHtml;\n",
       "          element.appendChild(docLink);\n",
       "        }\n",
       "      </script>\n",
       "    </div>\n",
       "  </div>\n",
       "  "
      ],
      "text/plain": [
       "   a_docId a_comment_date                                  a_content_comment  \\\n",
       "0        1         Mar-22  Terrible !!!...open at 12 noon, close at 7pm. ...   \n",
       "1        2         Feb-22  I see other people's reviews about a lot of it...   \n",
       "2        3         Feb-22  As several previous reviewers have noted, the ...   \n",
       "3        8         Feb-22  We paid FULL price for the tickets, only to fi...   \n",
       "4        9         Feb-22  Multiple rides, shows (100% of the shows were ...   \n",
       "\n",
       "   a_rating  approximate_sentiment  \\\n",
       "0         1                      0   \n",
       "1         4                      1   \n",
       "2         2                      0   \n",
       "3         1                      0   \n",
       "4         1                      0   \n",
       "\n",
       "                                     a_clean_content  \n",
       "0  terrible open noon close pm queue min ride can...  \n",
       "1  people review lot closed enjoy went sunday mor...  \n",
       "2  previous reviewer note way operate moment make...  \n",
       "3  pay price ticket find ride show closed ride re...  \n",
       "4  multiple ride show show available visit street...  "
      ]
     },
     "execution_count": 16,
     "metadata": {},
     "output_type": "execute_result"
    }
   ],
   "source": [
    "df.head()"
   ]
  },
  {
   "cell_type": "markdown",
   "metadata": {
    "id": "xSQ0B5VUC0O9"
   },
   "source": [
    "# Data Preparation ----------------------"
   ]
  },
  {
   "cell_type": "markdown",
   "metadata": {
    "id": "53eSdnBdgJJF"
   },
   "source": [
    "## Test-train split"
   ]
  },
  {
   "cell_type": "code",
   "execution_count": null,
   "metadata": {
    "colab": {
     "base_uri": "https://localhost:8080/",
     "height": 70
    },
    "id": "eWfnUKqjgJJG",
    "outputId": "b0154822-cc41-4700-a4b8-a6d2db2f8965"
   },
   "outputs": [
    {
     "data": {
      "application/vnd.google.colaboratory.intrinsic+json": {
       "type": "string"
      },
      "text/plain": [
       "\"\\n\\nfrom sklearn.model_selection import train_test_split\\n\\nX_train, x_test, y_train, y_test = train_test_split(df['a_clean_content'] , df['approximate_sentiment'] , test_size = 0.2 )\\nprint(X_train)\\nprint(y_train)\\n\""
      ]
     },
     "execution_count": 17,
     "metadata": {},
     "output_type": "execute_result"
    }
   ],
   "source": [
    "from sklearn.model_selection import train_test_split\n",
    "\n",
    "\n",
    "X_train, x_test, y_train, y_test = train_test_split(df['a_clean_content'] ,  df['approximate_sentiment'] , test_size=0.2)\n",
    "\n",
    "X_train, x_val, y_train, y_val = train_test_split(X_train, y_train, test_size=0.25)\n",
    "\n",
    "y_train = to_categorical(y_train)\n",
    "y_test = to_categorical(y_test)\n",
    "y_val = to_categorical(y_val)\n"
   ]
  },
  {
   "cell_type": "markdown",
   "metadata": {
    "id": "VHJIrVQpgJJG"
   },
   "source": [
    "## Text tokenization"
   ]
  },
  {
   "cell_type": "code",
   "execution_count": null,
   "metadata": {
    "colab": {
     "base_uri": "https://localhost:8080/",
     "height": 105
    },
    "id": "F9Oy74gsC2KM",
    "outputId": "1763f60d-bd95-4d42-9a5c-891f8b74fe67"
   },
   "outputs": [
    {
     "name": "stdout",
     "output_type": "stream",
     "text": [
      "Number of unique words: 11206\n"
     ]
    },
    {
     "data": {
      "application/vnd.google.colaboratory.intrinsic+json": {
       "type": "string"
      },
      "text/plain": [
       "\"\\n\\ntokenizer = Tokenizer()\\ntokenizer.fit_on_texts(df['a_clean_content'] )\\n\\nsequence_train = tokenizer.texts_to_sequences(X_train)\\nsequence_test = tokenizer.texts_to_sequences(x_test)\\n\\nindex_of_words = tokenizer.word_index\\n\\nvocab_size = len(index_of_words) + 1\\n\\nprint('Number of unique words: {}'.format(len(index_of_words)))\\n\""
      ]
     },
     "execution_count": 18,
     "metadata": {},
     "output_type": "execute_result"
    }
   ],
   "source": [
    "\n",
    "tokenizer = Tokenizer()\n",
    "tokenizer.fit_on_texts(df['a_clean_content'] )\n",
    "\n",
    "sequence_train = tokenizer.texts_to_sequences(X_train)\n",
    "sequence_test = tokenizer.texts_to_sequences(x_test)\n",
    "sequence_valid = tokenizer.texts_to_sequences(x_val)\n",
    "index_of_words = tokenizer.word_index\n",
    "\n",
    "vocab_size = len(index_of_words) + 1\n",
    "\n",
    "print('Number of unique words: {}'.format(len(index_of_words)))\n"
   ]
  },
  {
   "cell_type": "markdown",
   "metadata": {
    "id": "C4r8bBTPgJJG"
   },
   "source": [
    "## Pad the texts"
   ]
  },
  {
   "cell_type": "code",
   "execution_count": null,
   "metadata": {
    "colab": {
     "base_uri": "https://localhost:8080/",
     "height": 53
    },
    "id": "3ekkkrwugJJG",
    "outputId": "599fd7d6-94d7-4e64-eedc-c29fea7c381f"
   },
   "outputs": [
    {
     "data": {
      "application/vnd.google.colaboratory.intrinsic+json": {
       "type": "string"
      },
      "text/plain": [
       "'\\n\\nmax_seq_len = 500\\nX_train_pad = pad_sequences(sequence_train, maxlen = max_seq_len)\\nX_test_pad = pad_sequences(sequence_test, maxlen = max_seq_len)\\nX_train_pad\\n'"
      ]
     },
     "execution_count": 19,
     "metadata": {},
     "output_type": "execute_result"
    }
   ],
   "source": [
    "\n",
    "max_seq_len = 500\n",
    "X_train_pad = pad_sequences(sequence_train, maxlen = max_seq_len)\n",
    "X_test_pad = pad_sequences(sequence_test, maxlen = max_seq_len)\n",
    "X_valid_pad = pad_sequences(sequence_valid , maxlen = max_seq_len)\n",
    "X_train_pad\n"
   ]
  },
  {
   "cell_type": "markdown",
   "metadata": {
    "id": "F0ZNoR6HgJJH"
   },
   "source": [
    "# Transferred learning with Word2Vec & Wiki news"
   ]
  },
  {
   "cell_type": "code",
   "execution_count": null,
   "metadata": {
    "id": "nDNKvWcjgJJH"
   },
   "outputs": [],
   "source": [
    "def create_embedding_matrix(filepath, word_index, embedding_dim):\n",
    "    vocab_size = len(word_index) + 1  # Adding again 1 because of reserved 0 index\n",
    "    embedding_matrix = np.zeros((vocab_size, embedding_dim))\n",
    "    with open(filepath , 'r' , encoding='UTF-8') as f:\n",
    "        for line in f:\n",
    "            word, *vector = line.split()\n",
    "            if word in word_index:\n",
    "                idx = word_index[word] \n",
    "                embedding_matrix[idx] = np.array(\n",
    "                    vector, dtype=np.float32)[:embedding_dim]\n",
    "    return embedding_matrix"
   ]
  },
  {
   "cell_type": "code",
   "execution_count": null,
   "metadata": {
    "colab": {
     "base_uri": "https://localhost:8080/"
    },
    "id": "1uHPzitngJJH",
    "outputId": "55176457-54a3-4c90-c609-dc9aaaaf7a76"
   },
   "outputs": [
    {
     "name": "stdout",
     "output_type": "stream",
     "text": [
      "Downloading word vectors...\n",
      "Unzipping...\n",
      "done.\n"
     ]
    }
   ],
   "source": [
    "fname = 'embeddings/wiki-news-300d-1M.vec'\n",
    "if not os.path.isfile(fname):\n",
    "    print('Downloading word vectors...')\n",
    "    urllib.request.urlretrieve('https://dl.fbaipublicfiles.com/fasttext/vectors-english/wiki-news-300d-1M.vec.zip',\n",
    "                              'wiki-news-300d-1M.vec.zip')\n",
    "    print('Unzipping...')\n",
    "    with zipfile.ZipFile('wiki-news-300d-1M.vec.zip', 'r') as zip_ref:\n",
    "        zip_ref.extractall('embeddings')\n",
    "    print('done.')\n",
    "    \n",
    "    os.remove('wiki-news-300d-1M.vec.zip')"
   ]
  },
  {
   "cell_type": "code",
   "execution_count": null,
   "metadata": {
    "colab": {
     "base_uri": "https://localhost:8080/"
    },
    "id": "Unc6kDXogJJH",
    "outputId": "714be704-3529-4001-ea35-c378cefc451a"
   },
   "outputs": [
    {
     "data": {
      "text/plain": [
       "(11207, 300)"
      ]
     },
     "execution_count": 22,
     "metadata": {},
     "output_type": "execute_result"
    }
   ],
   "source": [
    "# Number of dimensions for word embedding\n",
    "embed_num_dims = 300\n",
    "\n",
    "embedd_matrix = create_embedding_matrix(fname, index_of_words, embed_num_dims)\n",
    "embedd_matrix.shape"
   ]
  },
  {
   "cell_type": "code",
   "execution_count": null,
   "metadata": {
    "colab": {
     "base_uri": "https://localhost:8080/"
    },
    "id": "eg22zDJwgJJH",
    "outputId": "36b21972-2dfc-4c0e-acc9-c4919338fdf1"
   },
   "outputs": [
    {
     "name": "stdout",
     "output_type": "stream",
     "text": [
      "Words found in wiki vocab: 9539\n",
      "New words found: 1667\n"
     ]
    }
   ],
   "source": [
    "# Inspect unseen words\n",
    "new_words = 0\n",
    "\n",
    "for word in index_of_words:\n",
    "    entry = embedd_matrix[index_of_words[word]]\n",
    "    if all(v == 0 for v in entry):\n",
    "        new_words = new_words + 1\n",
    "\n",
    "print('Words found in wiki vocab: ' + str(len(index_of_words) - new_words))\n",
    "print('New words found: ' + str(new_words))"
   ]
  },
  {
   "cell_type": "markdown",
   "metadata": {
    "id": "X4MX3JIQgJJH"
   },
   "source": [
    "# Convolutional Neural Network (CNN) ----------------------\n"
   ]
  },
  {
   "cell_type": "code",
   "execution_count": null,
   "metadata": {
    "id": "ovVp5AA9gJJH",
    "outputId": "08eb592b-c7bc-4b4e-ded5-68aa4f47aa76"
   },
   "outputs": [
    {
     "name": "stdout",
     "output_type": "stream",
     "text": [
      "Model: \"sequential_4\"\n",
      "_________________________________________________________________\n",
      "Layer (type)                 Output Shape              Param #   \n",
      "=================================================================\n",
      "embedding_4 (Embedding)      (None, 500, 300)          3362100   \n",
      "_________________________________________________________________\n",
      "conv1d_4 (Conv1D)            (None, 496, 128)          192128    \n",
      "_________________________________________________________________\n",
      "global_max_pooling1d_4 (Glob (None, 128)               0         \n",
      "_________________________________________________________________\n",
      "dense_7 (Dense)              (None, 128)               16512     \n",
      "_________________________________________________________________\n",
      "dropout (Dropout)            (None, 128)               0         \n",
      "_________________________________________________________________\n",
      "dense_8 (Dense)              (None, 2)                 258       \n",
      "=================================================================\n",
      "Total params: 3,570,998\n",
      "Trainable params: 3,570,998\n",
      "Non-trainable params: 0\n",
      "_________________________________________________________________\n"
     ]
    }
   ],
   "source": [
    "model = Sequential()\n",
    "model.add(Embedding(vocab_size, embed_num_dims, weights = [embedd_matrix], input_length=max_seq_len))\n",
    "model.add(Conv1D(128, 5, activation='relu'))\n",
    "model.add(GlobalMaxPooling1D())\n",
    "model.add(Dense(128, activation='relu'))\n",
    "model.add(Dropout(0.5))\n",
    "model.add(Dense(len(class_names), activation='softmax'))\n",
    "model.compile(optimizer='adam',\n",
    "              loss='categorical_crossentropy',\n",
    "              metrics=['accuracy'])\n",
    "model.summary()"
   ]
  },
  {
   "cell_type": "code",
   "execution_count": null,
   "metadata": {
    "id": "YVq4p47pgJJH",
    "outputId": "d0f6807a-e684-4ca0-eec3-6c45950623bc"
   },
   "outputs": [
    {
     "name": "stdout",
     "output_type": "stream",
     "text": [
      "Epoch 1/10\n"
     ]
    },
    {
     "name": "stderr",
     "output_type": "stream",
     "text": [
      "2022-04-05 18:12:17.232630: I tensorflow/core/grappler/optimizers/custom_graph_optimizer_registry.cc:112] Plugin optimizer for device_type GPU is enabled.\n"
     ]
    },
    {
     "name": "stdout",
     "output_type": "stream",
     "text": [
      "39/40 [============================>.] - ETA: 0s - loss: 0.3177 - accuracy: 0.8936"
     ]
    },
    {
     "name": "stderr",
     "output_type": "stream",
     "text": [
      "2022-04-05 18:12:20.672887: I tensorflow/core/grappler/optimizers/custom_graph_optimizer_registry.cc:112] Plugin optimizer for device_type GPU is enabled.\n"
     ]
    },
    {
     "name": "stdout",
     "output_type": "stream",
     "text": [
      "40/40 [==============================] - 4s 89ms/step - loss: 0.3180 - accuracy: 0.8930 - val_loss: 0.2419 - val_accuracy: 0.8993\n",
      "Epoch 2/10\n",
      "40/40 [==============================] - 3s 87ms/step - loss: 0.1738 - accuracy: 0.9293 - val_loss: 0.1544 - val_accuracy: 0.9381\n",
      "Epoch 3/10\n",
      "40/40 [==============================] - 4s 88ms/step - loss: 0.0736 - accuracy: 0.9788 - val_loss: 0.1335 - val_accuracy: 0.9488\n",
      "Epoch 4/10\n",
      "40/40 [==============================] - 3s 87ms/step - loss: 0.0292 - accuracy: 0.9954 - val_loss: 0.1304 - val_accuracy: 0.9535\n",
      "Epoch 5/10\n",
      "40/40 [==============================] - 3s 87ms/step - loss: 0.0129 - accuracy: 0.9982 - val_loss: 0.1845 - val_accuracy: 0.9404\n",
      "Epoch 6/10\n",
      "40/40 [==============================] - 3s 87ms/step - loss: 0.0055 - accuracy: 0.9992 - val_loss: 0.1575 - val_accuracy: 0.9512\n",
      "Epoch 7/10\n",
      "40/40 [==============================] - 3s 87ms/step - loss: 0.0026 - accuracy: 0.9998 - val_loss: 0.2027 - val_accuracy: 0.9464\n",
      "Epoch 8/10\n",
      "40/40 [==============================] - 3s 87ms/step - loss: 0.0012 - accuracy: 1.0000 - val_loss: 0.1935 - val_accuracy: 0.9500\n",
      "Epoch 9/10\n",
      "40/40 [==============================] - 4s 88ms/step - loss: 8.5456e-04 - accuracy: 1.0000 - val_loss: 0.1947 - val_accuracy: 0.9500\n",
      "Epoch 10/10\n",
      "40/40 [==============================] - 3s 88ms/step - loss: 6.6223e-04 - accuracy: 1.0000 - val_loss: 0.2199 - val_accuracy: 0.9470\n"
     ]
    },
    {
     "data": {
      "text/plain": [
       "'\\nbatch_size = 128\\nepochs = 3\\n\\nhist = model.fit(X_train_pad,y_train, \\n                 batch_size=batch_size,\\n                 epochs=epochs,\\n                 callbacks=[tf.keras.callbacks.EarlyStopping(patience=10 , restore_best_weights = True)],\\n                 validation_data=(X_test_pad,y_test)\\n                 )\\n                 '"
      ]
     },
     "execution_count": 21,
     "metadata": {},
     "output_type": "execute_result"
    }
   ],
   "source": [
    "\n",
    "batch_size = 128\n",
    "epochs = 10\n",
    "\n",
    "hist = model.fit(X_train_pad,y_train, \n",
    "                 batch_size=batch_size,\n",
    "                 epochs=epochs,\n",
    "                 callbacks=[tf.keras.callbacks.EarlyStopping(patience=10 , restore_best_weights = True)],\n",
    "                 validation_data=(X_valid_pad,y_val)\n",
    "                 )\n"
   ]
  },
  {
   "cell_type": "code",
   "execution_count": null,
   "metadata": {
    "id": "nz6zMv9agJJI",
    "outputId": "866ad7d6-5ce7-47dd-c9f5-a63db83872e2"
   },
   "outputs": [
    {
     "data": {
      "image/png": "[encoded data removed]",
      "text/plain": [
       "<Figure size 432x288 with 1 Axes>"
      ]
     },
     "metadata": {
      "needs_background": "light"
     },
     "output_type": "display_data"
    },
    {
     "data": {
      "image/png": "[encoded data removed]",
      "text/plain": [
       "<Figure size 432x288 with 1 Axes>"
      ]
     },
     "metadata": {
      "needs_background": "light"
     },
     "output_type": "display_data"
    }
   ],
   "source": [
    "#  \"Accuracy\"\n",
    "plt.plot(hist.history['accuracy'])\n",
    "plt.plot(hist.history['val_accuracy'])\n",
    "plt.title('model accuracy')\n",
    "plt.ylabel('accuracy')\n",
    "plt.xlabel('epoch')\n",
    "plt.legend(['train', 'validation'], loc='upper left')\n",
    "plt.show()\n",
    "\n",
    "# \"Loss\"\n",
    "plt.plot(hist.history['loss'])\n",
    "plt.plot(hist.history['val_loss'])\n",
    "plt.title('model loss')\n",
    "plt.ylabel('loss')\n",
    "plt.xlabel('epoch')\n",
    "plt.legend(['train', 'validation'], loc='upper left')\n",
    "plt.show()"
   ]
  },
  {
   "cell_type": "code",
   "execution_count": null,
   "metadata": {
    "id": "XDvvyh4RgJJI"
   },
   "outputs": [],
   "source": [
    "def plot_confusion_matrix(y_true, y_pred, classes,\n",
    "                          normalize=False,\n",
    "                          title=None,\n",
    "                          cmap=plt.cm.Blues):\n",
    "    '''\n",
    "    This function prints and plots the confusion matrix.\n",
    "    Normalization can be applied by setting `normalize=True`.\n",
    "    '''\n",
    "    if not title:\n",
    "        if normalize:\n",
    "            title = 'Normalized confusion matrix'\n",
    "        else:\n",
    "            title = 'Confusion matrix, without normalization'\n",
    "\n",
    "    # Compute confusion matrix\n",
    "    cm = confusion_matrix(y_true, y_pred)\n",
    "\n",
    "    if normalize:\n",
    "        cm = cm.astype('float') / cm.sum(axis=1)[:, np.newaxis]\n",
    "\n",
    "    fig, ax = plt.subplots()\n",
    "    \n",
    "    # Set size\n",
    "    fig.set_size_inches(12.5, 7.5)\n",
    "    im = ax.imshow(cm, interpolation='nearest', cmap=cmap)\n",
    "    ax.figure.colorbar(im, ax=ax)\n",
    "    ax.grid(False)\n",
    "    \n",
    "    # We want to show all ticks...\n",
    "    ax.set(xticks=np.arange(cm.shape[1]),\n",
    "           yticks=np.arange(cm.shape[0]),\n",
    "           # ... and label them with the respective list entries\n",
    "           xticklabels=classes, yticklabels=classes,\n",
    "           title=title,\n",
    "           ylabel='True label',\n",
    "           xlabel='Predicted label')\n",
    "\n",
    "    # Rotate the tick labels and set their alignment.\n",
    "    plt.setp(ax.get_xticklabels(), rotation=45, ha=\"right\",\n",
    "             rotation_mode=\"anchor\")\n",
    "\n",
    "    # Loop over data dimensions and create text annotations.\n",
    "    fmt = '.2f' if normalize else 'd'\n",
    "    thresh = cm.max() / 2.\n",
    "    for i in range(cm.shape[0]):\n",
    "        for j in range(cm.shape[1]):\n",
    "            ax.text(j, i, format(cm[i, j], fmt),\n",
    "                    ha=\"center\", va=\"center\",\n",
    "                    color=\"white\" if cm[i, j] > thresh else \"black\")\n",
    "    fig.tight_layout()\n",
    "    return ax"
   ]
  },
  {
   "cell_type": "code",
   "execution_count": null,
   "metadata": {
    "id": "j66qeSt_gJJI",
    "outputId": "7d043bb5-0b1f-42b1-8370-d8285d299dfa"
   },
   "outputs": [
    {
     "name": "stdout",
     "output_type": "stream",
     "text": [
      "Accuracy: 94.11%\n",
      "\n",
      "F1 Score: 94.11\n"
     ]
    }
   ],
   "source": [
    "predictions = model.predict(X_test_pad)#Method used to predict valid later\n",
    "predictions = np.argmax(predictions, axis=1)\n",
    "print(\"Accuracy: {:.2f}%\".format(accuracy_score(np.argmax(y_test, axis=1), predictions) * 100))\n",
    "print(\"\\nF1 Score: {:.2f}\".format(f1_score(np.argmax(y_test, axis=1), predictions, average='micro') * 100))\n",
    "\n",
    "CNN_eval = accuracy_score(np.argmax(y_test, axis=1), predictions) * 100"
   ]
  },
  {
   "cell_type": "code",
   "execution_count": null,
   "metadata": {
    "id": "ToxE2tNjgJJI",
    "outputId": "3c6b15a7-35c0-42fb-b5a7-9d0885ef417f"
   },
   "outputs": [
    {
     "data": {
      "image/png": "[encoded data removed]",
      "text/plain": [
       "<Figure size 900x540 with 2 Axes>"
      ]
     },
     "metadata": {
      "needs_background": "light"
     },
     "output_type": "display_data"
    }
   ],
   "source": [
    "# Plot normalized confusion matrix\n",
    "plot_confusion_matrix(np.argmax(y_test, axis=1), predictions, classes=class_names, normalize=True, title='Normalized confusion matrix')\n",
    "plt.show()"
   ]
  },
  {
   "cell_type": "code",
   "execution_count": null,
   "metadata": {
    "id": "G9H4OCo5gJJI",
    "outputId": "b2850d06-5813-4550-bcf2-94d83526c234"
   },
   "outputs": [
    {
     "name": "stdout",
     "output_type": "stream",
     "text": [
      "              precision    recall  f1-score   support\n",
      "\n",
      "    Negative       0.88      0.56      0.68       192\n",
      "    Positive       0.95      0.99      0.97      1488\n",
      "\n",
      "    accuracy                           0.94      1680\n",
      "   macro avg       0.91      0.77      0.83      1680\n",
      "weighted avg       0.94      0.94      0.94      1680\n",
      "\n"
     ]
    }
   ],
   "source": [
    "# Classfication Report for CNN model\n",
    "\n",
    "from sklearn.metrics import classification_report\n",
    "\n",
    "cf_CNN = classification_report(np.argmax(y_test, axis=1), predictions, target_names = ['Negative', 'Positive'])\n",
    "print(cf_CNN)"
   ]
  },
  {
   "cell_type": "code",
   "execution_count": null,
   "metadata": {
    "id": "PuwNkmuSgJJI",
    "outputId": "953f8e85-d444-4a88-c4fb-5234a13f219b"
   },
   "outputs": [
    {
     "name": "stdout",
     "output_type": "stream",
     "text": [
      "\n",
      "Weighted F1 Score: 93.51\n"
     ]
    }
   ],
   "source": [
    "# Weighted F1 score for CNN model\n",
    "\n",
    "from sklearn.metrics import f1_score\n",
    "f1_wt_CNN = f1_score(np.argmax(y_test, axis=1), predictions, average = 'weighted') * 100\n",
    "print(\"\\nWeighted F1 Score: {:.2f}\".format(f1_score(np.argmax(y_test, axis=1), predictions, average = 'weighted')* 100))"
   ]
  }
 ],
 "metadata": {
  "colab": {
   "collapsed_sections": [],
   "name": "Final_6 CNN LSTM Two Classes.ipynb",
   "provenance": []
  },
  "kernelspec": {
   "display_name": "Python 3 (ipykernel)",
   "language": "python",
   "name": "python3"
  },
  "language_info": {
   "codemirror_mode": {
    "name": "ipython",
    "version": 3
   },
   "file_extension": ".py",
   "mimetype": "text/x-python",
   "name": "python",
   "nbconvert_exporter": "python",
   "pygments_lexer": "ipython3",
   "version": "3.9.12"
  }
 },
 "nbformat": 4,
 "nbformat_minor": 1
}
